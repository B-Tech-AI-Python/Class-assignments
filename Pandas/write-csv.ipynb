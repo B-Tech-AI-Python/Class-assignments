{
 "metadata": {
  "language_info": {
   "codemirror_mode": {
    "name": "ipython",
    "version": 3
   },
   "file_extension": ".py",
   "mimetype": "text/x-python",
   "name": "python",
   "nbconvert_exporter": "python",
   "pygments_lexer": "ipython3",
   "version": "3.8.4-final"
  },
  "orig_nbformat": 2,
  "kernelspec": {
   "name": "Python 3.8.4 64-bit",
   "display_name": "Python 3.8.4 64-bit",
   "metadata": {
    "interpreter": {
     "hash": "e404b59586357c814bc0d3940e75d6763c00a48753b225b81f7716971b8e1741"
    }
   }
  }
 },
 "nbformat": 4,
 "nbformat_minor": 2,
 "cells": [
  {
   "cell_type": "code",
   "execution_count": 1,
   "metadata": {},
   "outputs": [],
   "source": [
    "import pandas as pd"
   ]
  },
  {
   "cell_type": "code",
   "execution_count": 2,
   "metadata": {},
   "outputs": [
    {
     "output_type": "stream",
     "name": "stdout",
     "text": [
      "   first_name       last_name                           email\n0        John             Doe         john-doe@bogusemail.com\n1        Mary  Smith-Robinson       maryjacobs@bogusemail.com\n2        Dave           Smith        davesmith@bogusemail.com\n3        Jane          Stuart       janestuart@bogusemail.com\n4         Tom          Wright        tomwright@bogusemail.com\n5       Steve        Robinson    steverobinson@bogusemail.com\n6      Nicole          Jacobs     nicolejacobs@bogusemail.com\n7        Jane          Wright       janewright@bogusemail.com\n8        Jane             Doe          janedoe@bogusemail.com\n9        Kurt          Wright       kurtwright@bogusemail.com\n10       Kurt        Robinson     kurtrobinson@bogusemail.com\n11       Jane         Jenkins      janejenkins@bogusemail.com\n12       Neil        Robinson     neilrobinson@bogusemail.com\n13        Tom       Patterson     tompatterson@bogusemail.com\n14        Sam         Jenkins       samjenkins@bogusemail.com\n15      Steve          Stuart      stevestuart@bogusemail.com\n16     Maggie       Patterson  maggiepatterson@bogusemail.com\n17     Maggie          Stuart     maggiestuart@bogusemail.com\n18       Jane             Doe          janedoe@bogusemail.com\n19      Steve       Patterson   stevepatterson@bogusemail.com\n20       Dave           Smith        davesmith@bogusemail.com\n21        Sam           Wilks         samwilks@bogusemail.com\n22       Kurt       Jefferson    kurtjefferson@bogusemail.com\n23        Sam          Stuart        samstuart@bogusemail.com\n24       Jane          Stuart       janestuart@bogusemail.com\n25       Dave           Davis        davedavis@bogusemail.com\n26        Sam       Patterson     sampatterson@bogusemail.com\n27        Tom       Jefferson     tomjefferson@bogusemail.com\n28       Jane          Stuart       janestuart@bogusemail.com\n29     Maggie       Jefferson  maggiejefferson@bogusemail.com\n30       Mary           Wilks        marywilks@bogusemail.com\n31       Neil       Patterson    neilpatterson@bogusemail.com\n32      Corey           Davis       coreydavis@bogusemail.com\n33      Steve          Jacobs      stevejacobs@bogusemail.com\n34       Jane         Jenkins      janejenkins@bogusemail.com\n35       John          Jacobs       johnjacobs@bogusemail.com\n36       Neil           Smith        neilsmith@bogusemail.com\n37      Corey           Wilks       coreywilks@bogusemail.com\n38      Corey           Smith       coreysmith@bogusemail.com\n39       Mary       Patterson    marypatterson@bogusemail.com\n40       Jane          Stuart       janestuart@bogusemail.com\n41     Travis          Arnold     travisarnold@bogusemail.com\n42       John        Robinson     johnrobinson@bogusemail.com\n43     Travis          Arnold     travisarnold@bogusemail.com\n"
     ]
    }
   ],
   "source": [
    "name = pd.read_csv('names.csv')\n",
    "print(name)"
   ]
  },
  {
   "cell_type": "code",
   "execution_count": 3,
   "metadata": {},
   "outputs": [
    {
     "output_type": "stream",
     "name": "stdout",
     "text": [
      "   first_name       last_name                           email  age\n0        John             Doe         john-doe@bogusemail.com   25\n1        Mary  Smith-Robinson       maryjacobs@bogusemail.com   25\n2        Dave           Smith        davesmith@bogusemail.com   25\n3        Jane          Stuart       janestuart@bogusemail.com   25\n4         Tom          Wright        tomwright@bogusemail.com   25\n5       Steve        Robinson    steverobinson@bogusemail.com   25\n6      Nicole          Jacobs     nicolejacobs@bogusemail.com   25\n7        Jane          Wright       janewright@bogusemail.com   25\n8        Jane             Doe          janedoe@bogusemail.com   25\n9        Kurt          Wright       kurtwright@bogusemail.com   25\n10       Kurt        Robinson     kurtrobinson@bogusemail.com   25\n11       Jane         Jenkins      janejenkins@bogusemail.com   25\n12       Neil        Robinson     neilrobinson@bogusemail.com   25\n13        Tom       Patterson     tompatterson@bogusemail.com   25\n14        Sam         Jenkins       samjenkins@bogusemail.com   25\n15      Steve          Stuart      stevestuart@bogusemail.com   25\n16     Maggie       Patterson  maggiepatterson@bogusemail.com   25\n17     Maggie          Stuart     maggiestuart@bogusemail.com   25\n18       Jane             Doe          janedoe@bogusemail.com   25\n19      Steve       Patterson   stevepatterson@bogusemail.com   25\n20       Dave           Smith        davesmith@bogusemail.com   25\n21        Sam           Wilks         samwilks@bogusemail.com   25\n22       Kurt       Jefferson    kurtjefferson@bogusemail.com   25\n23        Sam          Stuart        samstuart@bogusemail.com   25\n24       Jane          Stuart       janestuart@bogusemail.com   25\n25       Dave           Davis        davedavis@bogusemail.com   25\n26        Sam       Patterson     sampatterson@bogusemail.com   25\n27        Tom       Jefferson     tomjefferson@bogusemail.com   25\n28       Jane          Stuart       janestuart@bogusemail.com   25\n29     Maggie       Jefferson  maggiejefferson@bogusemail.com   25\n30       Mary           Wilks        marywilks@bogusemail.com   25\n31       Neil       Patterson    neilpatterson@bogusemail.com   25\n32      Corey           Davis       coreydavis@bogusemail.com   25\n33      Steve          Jacobs      stevejacobs@bogusemail.com   25\n34       Jane         Jenkins      janejenkins@bogusemail.com   25\n35       John          Jacobs       johnjacobs@bogusemail.com   25\n36       Neil           Smith        neilsmith@bogusemail.com   25\n37      Corey           Wilks       coreywilks@bogusemail.com   25\n38      Corey           Smith       coreysmith@bogusemail.com   25\n39       Mary       Patterson    marypatterson@bogusemail.com   25\n40       Jane          Stuart       janestuart@bogusemail.com   25\n41     Travis          Arnold     travisarnold@bogusemail.com   25\n42       John        Robinson     johnrobinson@bogusemail.com   25\n43     Travis          Arnold     travisarnold@bogusemail.com   25\n"
     ]
    }
   ],
   "source": [
    "name['age'] = 25\n",
    "print(name)"
   ]
  },
  {
   "cell_type": "code",
   "execution_count": 4,
   "metadata": {},
   "outputs": [],
   "source": [
    "name.to_csv('new_names.csv',index=False)"
   ]
  },
  {
   "cell_type": "code",
   "execution_count": 5,
   "metadata": {},
   "outputs": [
    {
     "output_type": "stream",
     "name": "stdout",
     "text": [
      "['2548195262', '7923226294', '2955734725', '8931614277', '2663484328', '4998958643', '5816158874', '3573458294', '8888494181', '3966891596', '1919616168', '3955916624', '8448276599', '7785992162', '8758784722', '8894788428', '7492758516', '1166149962', '2783118791', '3579533868', '1934958868', '9972671362', '1117279834', '6816165724', '2816351776', '4846859988', '5267336143', '3853281673', '4541639563', '5472738595', '4159745954', '8242445959', '1944756185', '3622834694', '4894785412', '5444843653', '9981741878', '2479727674', '9727339151', '6992796494', '4817926771', '5886557733', '8242832123', '7756542534']\n"
     ]
    }
   ],
   "source": [
    "import random\n",
    "\n",
    "phone_numbers = []\n",
    "for i in range(44):\n",
    "    temp = ''\n",
    "    for j in range(10):\n",
    "        temp += str(random.randint(1,9))\n",
    "    phone_numbers.append(temp)\n",
    "\n",
    "print(phone_numbers)"
   ]
  },
  {
   "cell_type": "code",
   "execution_count": 6,
   "metadata": {},
   "outputs": [
    {
     "output_type": "stream",
     "name": "stdout",
     "text": [
      "   phone_numbers\n0     2548195262\n1     7923226294\n2     2955734725\n3     8931614277\n4     2663484328\n5     4998958643\n6     5816158874\n7     3573458294\n8     8888494181\n9     3966891596\n10    1919616168\n11    3955916624\n12    8448276599\n13    7785992162\n14    8758784722\n15    8894788428\n16    7492758516\n17    1166149962\n18    2783118791\n19    3579533868\n20    1934958868\n21    9972671362\n22    1117279834\n23    6816165724\n24    2816351776\n25    4846859988\n26    5267336143\n27    3853281673\n28    4541639563\n29    5472738595\n30    4159745954\n31    8242445959\n32    1944756185\n33    3622834694\n34    4894785412\n35    5444843653\n36    9981741878\n37    2479727674\n38    9727339151\n39    6992796494\n40    4817926771\n41    5886557733\n42    8242832123\n43    7756542534\n"
     ]
    }
   ],
   "source": [
    "new_col = pd.DataFrame({'phone_numbers': phone_numbers})\n",
    "print(new_col)"
   ]
  },
  {
   "cell_type": "code",
   "execution_count": 7,
   "metadata": {},
   "outputs": [
    {
     "output_type": "stream",
     "name": "stdout",
     "text": [
      "   first_name       last_name                           email  age  \\\n",
      "0        John             Doe         john-doe@bogusemail.com   25   \n",
      "1        Mary  Smith-Robinson       maryjacobs@bogusemail.com   25   \n",
      "2        Dave           Smith        davesmith@bogusemail.com   25   \n",
      "3        Jane          Stuart       janestuart@bogusemail.com   25   \n",
      "4         Tom          Wright        tomwright@bogusemail.com   25   \n",
      "5       Steve        Robinson    steverobinson@bogusemail.com   25   \n",
      "6      Nicole          Jacobs     nicolejacobs@bogusemail.com   25   \n",
      "7        Jane          Wright       janewright@bogusemail.com   25   \n",
      "8        Jane             Doe          janedoe@bogusemail.com   25   \n",
      "9        Kurt          Wright       kurtwright@bogusemail.com   25   \n",
      "10       Kurt        Robinson     kurtrobinson@bogusemail.com   25   \n",
      "11       Jane         Jenkins      janejenkins@bogusemail.com   25   \n",
      "12       Neil        Robinson     neilrobinson@bogusemail.com   25   \n",
      "13        Tom       Patterson     tompatterson@bogusemail.com   25   \n",
      "14        Sam         Jenkins       samjenkins@bogusemail.com   25   \n",
      "15      Steve          Stuart      stevestuart@bogusemail.com   25   \n",
      "16     Maggie       Patterson  maggiepatterson@bogusemail.com   25   \n",
      "17     Maggie          Stuart     maggiestuart@bogusemail.com   25   \n",
      "18       Jane             Doe          janedoe@bogusemail.com   25   \n",
      "19      Steve       Patterson   stevepatterson@bogusemail.com   25   \n",
      "20       Dave           Smith        davesmith@bogusemail.com   25   \n",
      "21        Sam           Wilks         samwilks@bogusemail.com   25   \n",
      "22       Kurt       Jefferson    kurtjefferson@bogusemail.com   25   \n",
      "23        Sam          Stuart        samstuart@bogusemail.com   25   \n",
      "24       Jane          Stuart       janestuart@bogusemail.com   25   \n",
      "25       Dave           Davis        davedavis@bogusemail.com   25   \n",
      "26        Sam       Patterson     sampatterson@bogusemail.com   25   \n",
      "27        Tom       Jefferson     tomjefferson@bogusemail.com   25   \n",
      "28       Jane          Stuart       janestuart@bogusemail.com   25   \n",
      "29     Maggie       Jefferson  maggiejefferson@bogusemail.com   25   \n",
      "30       Mary           Wilks        marywilks@bogusemail.com   25   \n",
      "31       Neil       Patterson    neilpatterson@bogusemail.com   25   \n",
      "32      Corey           Davis       coreydavis@bogusemail.com   25   \n",
      "33      Steve          Jacobs      stevejacobs@bogusemail.com   25   \n",
      "34       Jane         Jenkins      janejenkins@bogusemail.com   25   \n",
      "35       John          Jacobs       johnjacobs@bogusemail.com   25   \n",
      "36       Neil           Smith        neilsmith@bogusemail.com   25   \n",
      "37      Corey           Wilks       coreywilks@bogusemail.com   25   \n",
      "38      Corey           Smith       coreysmith@bogusemail.com   25   \n",
      "39       Mary       Patterson    marypatterson@bogusemail.com   25   \n",
      "40       Jane          Stuart       janestuart@bogusemail.com   25   \n",
      "41     Travis          Arnold     travisarnold@bogusemail.com   25   \n",
      "42       John        Robinson     johnrobinson@bogusemail.com   25   \n",
      "43     Travis          Arnold     travisarnold@bogusemail.com   25   \n",
      "\n",
      "   phone_numbers  \n",
      "0     2548195262  \n",
      "1     7923226294  \n",
      "2     2955734725  \n",
      "3     8931614277  \n",
      "4     2663484328  \n",
      "5     4998958643  \n",
      "6     5816158874  \n",
      "7     3573458294  \n",
      "8     8888494181  \n",
      "9     3966891596  \n",
      "10    1919616168  \n",
      "11    3955916624  \n",
      "12    8448276599  \n",
      "13    7785992162  \n",
      "14    8758784722  \n",
      "15    8894788428  \n",
      "16    7492758516  \n",
      "17    1166149962  \n",
      "18    2783118791  \n",
      "19    3579533868  \n",
      "20    1934958868  \n",
      "21    9972671362  \n",
      "22    1117279834  \n",
      "23    6816165724  \n",
      "24    2816351776  \n",
      "25    4846859988  \n",
      "26    5267336143  \n",
      "27    3853281673  \n",
      "28    4541639563  \n",
      "29    5472738595  \n",
      "30    4159745954  \n",
      "31    8242445959  \n",
      "32    1944756185  \n",
      "33    3622834694  \n",
      "34    4894785412  \n",
      "35    5444843653  \n",
      "36    9981741878  \n",
      "37    2479727674  \n",
      "38    9727339151  \n",
      "39    6992796494  \n",
      "40    4817926771  \n",
      "41    5886557733  \n",
      "42    8242832123  \n",
      "43    7756542534  \n"
     ]
    }
   ],
   "source": [
    "name = name.merge(new_col, left_index = True, right_index = True)\n",
    "print(name)"
   ]
  },
  {
   "cell_type": "code",
   "execution_count": 8,
   "metadata": {},
   "outputs": [],
   "source": [
    "name.to_csv('new_names.csv', index=False)"
   ]
  },
  {
   "cell_type": "code",
   "execution_count": 9,
   "metadata": {},
   "outputs": [
    {
     "output_type": "stream",
     "name": "stdout",
     "text": [
      "   first_name       last_name                           email  age  \\\n0        John             Doe         john-doe@bogusemail.com   25   \n1        Mary  Smith-Robinson       maryjacobs@bogusemail.com   25   \n2        Dave           Smith        davesmith@bogusemail.com   25   \n3        Jane          Stuart       janestuart@bogusemail.com   25   \n4         Tom          Wright        tomwright@bogusemail.com   25   \n5       Steve        Robinson    steverobinson@bogusemail.com   25   \n6      Nicole          Jacobs     nicolejacobs@bogusemail.com   25   \n7        Jane          Wright       janewright@bogusemail.com   25   \n8        Jane             Doe          janedoe@bogusemail.com   25   \n9        Kurt          Wright       kurtwright@bogusemail.com   25   \n10       Kurt        Robinson     kurtrobinson@bogusemail.com   25   \n11       Jane         Jenkins      janejenkins@bogusemail.com   25   \n12       Neil        Robinson     neilrobinson@bogusemail.com   25   \n13        Tom       Patterson     tompatterson@bogusemail.com   25   \n14        Sam         Jenkins       samjenkins@bogusemail.com   25   \n15      Steve          Stuart      stevestuart@bogusemail.com   25   \n16     Maggie       Patterson  maggiepatterson@bogusemail.com   25   \n17     Maggie          Stuart     maggiestuart@bogusemail.com   25   \n18       Jane             Doe          janedoe@bogusemail.com   25   \n19      Steve       Patterson   stevepatterson@bogusemail.com   25   \n20       Dave           Smith        davesmith@bogusemail.com   25   \n21        Sam           Wilks         samwilks@bogusemail.com   25   \n22       Kurt       Jefferson    kurtjefferson@bogusemail.com   25   \n23        Sam          Stuart        samstuart@bogusemail.com   25   \n24       Jane          Stuart       janestuart@bogusemail.com   25   \n25       Dave           Davis        davedavis@bogusemail.com   25   \n26        Sam       Patterson     sampatterson@bogusemail.com   25   \n27        Tom       Jefferson     tomjefferson@bogusemail.com   25   \n28       Jane          Stuart       janestuart@bogusemail.com   25   \n29     Maggie       Jefferson  maggiejefferson@bogusemail.com   25   \n30       Mary           Wilks        marywilks@bogusemail.com   25   \n31       Neil       Patterson    neilpatterson@bogusemail.com   25   \n32      Corey           Davis       coreydavis@bogusemail.com   25   \n33      Steve          Jacobs      stevejacobs@bogusemail.com   25   \n34       Jane         Jenkins      janejenkins@bogusemail.com   25   \n35       John          Jacobs       johnjacobs@bogusemail.com   25   \n36       Neil           Smith        neilsmith@bogusemail.com   25   \n37      Corey           Wilks       coreywilks@bogusemail.com   25   \n38      Corey           Smith       coreysmith@bogusemail.com   25   \n39       Mary       Patterson    marypatterson@bogusemail.com   25   \n40       Jane          Stuart       janestuart@bogusemail.com   25   \n41     Travis          Arnold     travisarnold@bogusemail.com   25   \n42       John        Robinson     johnrobinson@bogusemail.com   25   \n43     Travis          Arnold     travisarnold@bogusemail.com   25   \n\n    phone_numbers  \n0      2548195262  \n1      7923226294  \n2      2955734725  \n3      8931614277  \n4      2663484328  \n5      4998958643  \n6      5816158874  \n7      3573458294  \n8      8888494181  \n9      3966891596  \n10     1919616168  \n11     3955916624  \n12     8448276599  \n13     7785992162  \n14     8758784722  \n15     8894788428  \n16     7492758516  \n17     1166149962  \n18     2783118791  \n19     3579533868  \n20     1934958868  \n21     9972671362  \n22     1117279834  \n23     6816165724  \n24     2816351776  \n25     4846859988  \n26     5267336143  \n27     3853281673  \n28     4541639563  \n29     5472738595  \n30     4159745954  \n31     8242445959  \n32     1944756185  \n33     3622834694  \n34     4894785412  \n35     5444843653  \n36     9981741878  \n37     2479727674  \n38     9727339151  \n39     6992796494  \n40     4817926771  \n41     5886557733  \n42     8242832123  \n43     7756542534  \n"
     ]
    }
   ],
   "source": [
    "newName = pd.read_csv('new_names.csv')\n",
    "print(newName)"
   ]
  },
  {
   "cell_type": "code",
   "execution_count": null,
   "metadata": {},
   "outputs": [],
   "source": []
  }
 ]
}