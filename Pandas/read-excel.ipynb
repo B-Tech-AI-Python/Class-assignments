{
 "metadata": {
  "language_info": {
   "codemirror_mode": {
    "name": "ipython",
    "version": 3
   },
   "file_extension": ".py",
   "mimetype": "text/x-python",
   "name": "python",
   "nbconvert_exporter": "python",
   "pygments_lexer": "ipython3",
   "version": "3.8.4-final"
  },
  "orig_nbformat": 2,
  "kernelspec": {
   "name": "Python 3.8.4 64-bit",
   "display_name": "Python 3.8.4 64-bit",
   "metadata": {
    "interpreter": {
     "hash": "e404b59586357c814bc0d3940e75d6763c00a48753b225b81f7716971b8e1741"
    }
   }
  }
 },
 "nbformat": 4,
 "nbformat_minor": 2,
 "cells": [
  {
   "cell_type": "code",
   "execution_count": 1,
   "metadata": {},
   "outputs": [],
   "source": [
    "import pandas as pd"
   ]
  },
  {
   "cell_type": "code",
   "execution_count": 43,
   "metadata": {},
   "outputs": [
    {
     "output_type": "stream",
     "name": "stdout",
     "text": [
      "Sheet1\n      Segment  Country    Product Discount Band  Units Sold  \\\n0  Government   Canada  Carretera          None      1618.5   \n1  Government  Germany  Carretera          None      1321.0   \n\n   Manufacturing Price  Sale Price  Gross Sales  Discounts    Sales     COGS  \\\n0                    3          20      32370.0        0.0  32370.0  16185.0   \n1                    3          20      26420.0        0.0  26420.0  13210.0   \n\n    Profit       Date  Month Number Month Name  Year  \n0  16185.0 2014-01-01             1    January  2014  \n1  13210.0 2014-01-01             1    January  2014  \n\n\n(700, 16)\n\n\n\nSheet2\n             OrderDate   Region     Rep  Item  Units  Unit Cost  Total\n0  2014-01-09 00:00:00  Central   Smith  Desk      2      125.0  250.0\n1              6-17-15  Central  Kivell  Desk      5      125.0  625.0\n\n\n(43, 7)\n\n\n\n"
     ]
    }
   ],
   "source": [
    "ed = pd.read_excel('data.xlsx', None)\n",
    "for key, value in ed.items():\n",
    "    print(key)\n",
    "    print(value.head(2))\n",
    "    print(\"\\n\")\n",
    "    print(value.shape)\n",
    "    print(\"\\n\\n\")"
   ]
  },
  {
   "cell_type": "code",
   "execution_count": 45,
   "metadata": {},
   "outputs": [
    {
     "output_type": "stream",
     "name": "stdout",
     "text": [
      "      Segment  Country    Product Discount Band  Units Sold  \\\n0  Government   Canada  Carretera          None      1618.5   \n1  Government  Germany  Carretera          None      1321.0   \n2   Midmarket   France  Carretera          None      2178.0   \n3   Midmarket  Germany  Carretera          None       888.0   \n4   Midmarket   Mexico  Carretera          None      2470.0   \n\n   Manufacturing Price  Sale Price  Gross Sales  Discounts    Sales     COGS  \\\n0                    3          20      32370.0        0.0  32370.0  16185.0   \n1                    3          20      26420.0        0.0  26420.0  13210.0   \n2                    3          15      32670.0        0.0  32670.0  21780.0   \n3                    3          15      13320.0        0.0  13320.0   8880.0   \n4                    3          15      37050.0        0.0  37050.0  24700.0   \n\n    Profit       Date  Month Number Month Name  Year  \n0  16185.0 2014-01-01             1    January  2014  \n1  13210.0 2014-01-01             1    January  2014  \n2  10890.0 2014-06-01             6       June  2014  \n3   4440.0 2014-06-01             6       June  2014  \n4  12350.0 2014-06-01             6       June  2014  \n(700, 16)\n"
     ]
    }
   ],
   "source": [
    "ed1 = pd.read_excel('data.xlsx', sheet_name='Sheet1')\n",
    "print(ed1.head())\n",
    "print(ed1.shape)"
   ]
  },
  {
   "cell_type": "code",
   "execution_count": 46,
   "metadata": {},
   "outputs": [
    {
     "output_type": "stream",
     "name": "stdout",
     "text": [
      "             OrderDate   Region      Rep    Item  Units  Unit Cost   Total\n0  2014-01-09 00:00:00  Central    Smith    Desk      2     125.00  250.00\n1              6-17-15  Central   Kivell    Desk      5     125.00  625.00\n2  2015-10-09 00:00:00  Central     Gill  Pencil      7       1.29    9.03\n3             11-17-15  Central  Jardine  Binder     11       4.99   54.89\n4             10-31-15  Central  Andrews  Pencil     14       1.29   18.06\n(43, 7)\n"
     ]
    }
   ],
   "source": [
    "ed2 = pd.read_excel('data.xlsx', sheet_name=1)\n",
    "print(ed2.head())\n",
    "print(ed2.shape)"
   ]
  },
  {
   "cell_type": "code",
   "execution_count": 47,
   "metadata": {},
   "outputs": [
    {
     "output_type": "stream",
     "name": "stdout",
     "text": [
      "      Segment  Country    Product Discount Band  Units Sold  \\\n0  Government   Canada  Carretera          None      1618.5   \n1  Government  Germany  Carretera          None      1321.0   \n2   Midmarket   France  Carretera          None      2178.0   \n3   Midmarket  Germany  Carretera          None       888.0   \n4   Midmarket   Mexico  Carretera          None      2470.0   \n\n   Manufacturing Price  Sale Price  Gross Sales  Discounts    Sales     COGS  \\\n0                    3          20      32370.0        0.0  32370.0  16185.0   \n1                    3          20      26420.0        0.0  26420.0  13210.0   \n2                    3          15      32670.0        0.0  32670.0  21780.0   \n3                    3          15      13320.0        0.0  13320.0   8880.0   \n4                    3          15      37050.0        0.0  37050.0  24700.0   \n\n    Profit       Date  Month Number Month Name  Year  \n0  16185.0 2014-01-01             1    January  2014  \n1  13210.0 2014-01-01             1    January  2014  \n2  10890.0 2014-06-01             6       June  2014  \n3   4440.0 2014-06-01             6       June  2014  \n4  12350.0 2014-06-01             6       June  2014  \n(700, 16)\n"
     ]
    }
   ],
   "source": [
    "ed = pd.read_excel('data.xlsx')\n",
    "print(ed.head())\n",
    "print(ed.shape)"
   ]
  },
  {
   "cell_type": "code",
   "execution_count": null,
   "metadata": {},
   "outputs": [],
   "source": []
  },
  {
   "cell_type": "code",
   "execution_count": null,
   "metadata": {},
   "outputs": [],
   "source": []
  }
 ]
}