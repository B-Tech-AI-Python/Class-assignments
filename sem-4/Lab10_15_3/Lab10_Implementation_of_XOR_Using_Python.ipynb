{
 "cells": [
  {
   "cell_type": "markdown",
   "metadata": {},
   "source": [
    "# Lab10\n",
    "## Implementation of XOR using Python"
   ]
  },
  {
   "cell_type": "markdown",
   "metadata": {},
   "source": [
    "Implementing logic gates using neural networks help understand the mathematical computation by which a neural network processes its inputs to arrive at a certain output. This neural network will deal with the XOR logic problem. An XOR (exclusive OR gate) is a digital logic gate that gives a true output only when both its inputs differ from each other. The truth table for an XOR gate is shown below:\n",
    "<img src=\"https://miro.medium.com/max/246/1*01idVj7sVw2ZnGZFapvW4A.png\">"
   ]
  },
  {
   "cell_type": "markdown",
   "metadata": {},
   "source": [
    "The goal of the neural network is to classify the input patterns according to the above truth table. If the input patterns are plotted according to their outputs, it is seen that these points are not linearly separable. Hence the neural network has to be modeled to separate these input patterns using decision planes.\n",
    "<img src=\"https://miro.medium.com/max/640/1*_HLG8KlGJFZxtWoB8J1kFA.png\" width=\"500\" height=\"500\">"
   ]
  },
  {
   "cell_type": "markdown",
   "metadata": {},
   "source": [
    "### THE NEURAL NETWORK MODEL"
   ]
  },
  {
   "cell_type": "markdown",
   "metadata": {},
   "source": [
    "As mentioned before, the neural network needs to produce two different decision planes to linearly separate the input data based on the output patterns. This is achieved by using the concept of hidden layers. The neural network will consist of one input layer with two nodes (X1,X2); one hidden layer with two nodes (since two decision planes are needed); and one output layer with one node (Y). Hence, the neural network looks like this:\n",
    "<img src=\"https://miro.medium.com/max/543/1*qXt_iBvWods-FOvTldxYFw.png\" width=\"500\" height=\"500\">"
   ]
  },
  {
   "cell_type": "markdown",
   "metadata": {},
   "source": [
    "### THE SIGMOID NEURON"
   ]
  },
  {
   "cell_type": "markdown",
   "metadata": {},
   "source": [
    "To implement an XOR gate, I will be using a Sigmoid Neuron as nodes in the neural network. The characteristics of a Sigmoid Neuron are:\n",
    "1. Can accept real values as input.\n",
    "2. The value of the activation is equal to the weighted sum of its inputs\n",
    "i.e. ∑wi xi\n",
    "3. The output of the sigmoid neuron is a function of the sigmoid function, which is also known as a logistic regression function. The sigmoid function is a continuous function which outputs values between 0 and 1:\n",
    "\n",
    "<img src=\"https://miro.medium.com/max/640/1*R4twuYNUKXVzsvgOGkPZsA.png\" width=\"500\" height=\"500\">"
   ]
  },
  {
   "cell_type": "markdown",
   "metadata": {},
   "source": [
    "### THE LEARNING ALGORITHM"
   ]
  },
  {
   "cell_type": "markdown",
   "metadata": {},
   "source": [
    "The information of a neural network is stored in the interconnections between the neurons i.e. the weights. A neural network learns by updating its weights according to a learning algorithm that helps it converge to the expected output. The learning algorithm is a principled way of changing the weights and biases based on the loss function.\n",
    "1. Initialize the weights and biases randomly.\n",
    "2. Iterate over the data\n",
    "    i. Compute the predicted output using the sigmoid function\n",
    "    ii. Compute the loss using the square error loss function\n",
    "    iii. W(new) = W(old) — α ∆W\n",
    "    iv. B(new) = B(old) — α ∆B\n",
    "3. Repeat until the error is minimal\n",
    "\n",
    "This is a fairly simple learning algorithm consisting of only arithmetic operations to update the weights and biases. The algorithm can be divided into two parts: the forward pass and the backward pass also known as “backpropagation.”"
   ]
  },
  {
   "cell_type": "markdown",
   "metadata": {},
   "source": [
    "### GRADIENT DESCENT"
   ]
  },
  {
   "cell_type": "markdown",
   "metadata": {},
   "source": [
    "The loss function of the sigmoid neuron is the squared error loss. If we plot the loss/error against the weights we get something like this:\n",
    "<img src=\"https://miro.medium.com/max/640/1*rNDygHX0Ds1In2mBE1ZC4g.png\" width=\"500\" height=\"500\">\n",
    "\n",
    "Our goal is to find the weight vector corresponding to the point where the error is minimum i.e. the minima of the error gradient. And here is where calculus comes into play."
   ]
  },
  {
   "cell_type": "markdown",
   "metadata": {},
   "source": [
    "### THE MATH BEHIND GRADIENT DESCENT"
   ]
  },
  {
   "cell_type": "markdown",
   "metadata": {},
   "source": [
    "Error can be simply written as the difference between the predicted outcome and the actual outcome. Mathematically:\n",
    "\n",
    "<img src=\"https://miro.medium.com/max/139/1*bSE-d1xTHdPMc_woav7m-w.png\" width=\"100\" height=\"100\">\n",
    "\n",
    "where t is the targeted/expected output & y is the predicted output.\n",
    "\n",
    "However, is it fair to assign different error values for the same amount of error? For example, the absolute difference between -1 and 0 & 1 and 0 is the same, however the above formula would sway things negatively for the outcome that predicted -1. To solve this problem, we use square error loss.(Note modulus is not used, as it makes it harder to differentiate). Further, this error is divided by 2, to make it easier to differentiate, as we’ll see in the following steps.\n",
    "\n",
    "<img src=\"https://miro.medium.com/max/161/1*FawfyTR5ga85aFd8Jhbbjg.png\" width=\"100\" height=\"100\">\n",
    "\n",
    "Since, there may be many weights contributing to this error, we take the partial derivative, to find the minimum error, with respect to each weight at a time. The change in weights are different for the output layer weights ($W_{31}$ & $W_{32}$) and different for the hidden layer weights ($W_{11}$, $W_{12}$, $W_{21}$, $W_{22}$). Let the outer layer weights be $w_{o}$ while the hidden layer weights be $w_{h}$.\n",
    "\n",
    "<img src=\"https://miro.medium.com/max/60/1*pZ8p9GnRNp7pI9_LtD755A.png\" width=\"50\" height=\"50\">\n",
    "\n",
    "We’ll first find ∆W for the outer layer weights. Since the outcome is a function of activation and further activation is a function of weights, by chain rule:\n",
    "\n",
    "<img src=\"https://miro.medium.com/max/282/1*lQmnCwjEwo0MdVjvRswCHg.png\" width=\"250\" height=\"100\">\n",
    "\n",
    "On solving,\n",
    "\n",
    "<img src=\"https://miro.medium.com/max/353/1*BRGgm_r1yfh0_Zwd6QMfiQ.png\" width=\"250\" height=\"100\">\n",
    "\n",
    "Note that for $X_{o}$ is nothing but the output from the hidden layer nodes. This output from the hidden layer node is again a function of the activation and correspondingly a function of weights. Hence, the chain rule expands for the hidden layer weights:\n",
    "\n",
    "<img src=\"https://miro.medium.com/max/407/1*ytRh9SKcH5beWceMUNyLFw.png\" width=\"300\" height=\"150\">\n",
    "\n",
    "Which comes to,\n",
    "\n",
    "<img src=\"https://miro.medium.com/max/550/1*l7rYNFhoaD5GDU_oNo3XwQ.png\" width=\"500\" height=\"250\">\n",
    "\n",
    "NOTE: $X_{o}$ can also be considered to be $Y_{h}$ i.e. the output from the hidden layer is the input to the output layer. $X_{h}$ is the input to the hidden layer, which are the actual input patterns from the truth table.\n",
    "\n"
   ]
  },
  {
   "cell_type": "code",
   "execution_count": 1,
   "metadata": {},
   "outputs": [],
   "source": [
    "#Import the necessary library\n",
    "import numpy as np\n",
    "#np.random.seed(0)"
   ]
  },
  {
   "cell_type": "code",
   "execution_count": 2,
   "metadata": {},
   "outputs": [],
   "source": [
    "def sigmoid(x):\n",
    "    \"\"\"Implementing the sigmoid function for x.\n",
    "    sig(x) = 1/(1+e^-x)\n",
    "\n",
    "    Args:\n",
    "        x: input for which signmoid function needs to be calculated.\n",
    "\n",
    "    Returns:\n",
    "        the sigmoid function.\n",
    "    \"\"\"\n",
    "    return 1 / (1 + (np.exp(-x)))"
   ]
  },
  {
   "cell_type": "code",
   "execution_count": 3,
   "metadata": {},
   "outputs": [],
   "source": [
    "def sigmoid_derivative(x):\n",
    "    \"\"\"Implementing the sigmoid function for x.\n",
    "    sig'(x) = x * (1-x)\n",
    "\n",
    "    Args:\n",
    "        x: input for which derivative of signmoid function needs to be calculated.\n",
    "\n",
    "    Returns:\n",
    "        the derivative of sigmoid function.\n",
    "    \"\"\"\n",
    "    return x * (1-x)"
   ]
  },
  {
   "cell_type": "code",
   "execution_count": 4,
   "metadata": {},
   "outputs": [
    {
     "name": "stdout",
     "output_type": "stream",
     "text": [
      "\n",
      "█░░ █▀▀█ █▀▀▀ ░▀░ █▀▀ 　 █▀▀▀ █▀▀█ ▀▀█▀▀ █▀▀ █▀▀ \n",
      "█░░ █░░█ █░▀█ ▀█▀ █░░ 　 █░▀█ █▄▄█ ░░█░░ █▀▀ ▀▀█ \n",
      "▀▀▀ ▀▀▀▀ ▀▀▀▀ ▀▀▀ ▀▀▀ 　 ▀▀▀▀ ▀░░▀ ░░▀░░ ▀▀▀ ▀▀▀\n",
      "A B | AND NAND OR NOR XOR XNOR\n",
      "-------------------------------\n",
      "0 0 |  0    1   0  1   0   1\n",
      "0 1 |  0    1   1  0   1   0\n",
      "1 0 |  0    1   1  0   1   0\n",
      "1 1 |  1    0   1  0   0   1\n",
      "\n",
      "Enter your chosen logic gate: xor\n"
     ]
    }
   ],
   "source": [
    "outputs = {'and': [[0], [0], [0], [1]], 'nand': [[1], [1], [1], [0]], 'or': [[1], [1], [1], [0]],\n",
    "           'nor': [[0], [0], [0], [1]], 'xor': [[0], [1], [1], [0]], 'xnor': [[1], [0], [0], [1]], }\n",
    "input_list = [(0, 0), (0, 1), (1, 0), (1, 1)]\n",
    "\n",
    "lg = \"\"\"\n",
    "█░░ █▀▀█ █▀▀▀ ░▀░ █▀▀ 　 █▀▀▀ █▀▀█ ▀▀█▀▀ █▀▀ █▀▀ \n",
    "█░░ █░░█ █░▀█ ▀█▀ █░░ 　 █░▀█ █▄▄█ ░░█░░ █▀▀ ▀▀█ \n",
    "▀▀▀ ▀▀▀▀ ▀▀▀▀ ▀▀▀ ▀▀▀ 　 ▀▀▀▀ ▀░░▀ ░░▀░░ ▀▀▀ ▀▀▀\n",
    "A B | AND NAND OR NOR XOR XNOR\n",
    "-------------------------------\n",
    "0 0 |  0    1   0  1   0   1\n",
    "0 1 |  0    1   1  0   1   0\n",
    "1 0 |  0    1   1  0   1   0\n",
    "1 1 |  1    0   1  0   0   1\n",
    "\"\"\"\n",
    "print(lg)\n",
    "\n",
    "while True:\n",
    "    try:\n",
    "        output_list = outputs[input('Enter your chosen logic gate: ').lower()]\n",
    "        break\n",
    "    except KeyError:\n",
    "        print('Invalid logic gate, try again!\\n')"
   ]
  },
  {
   "cell_type": "code",
   "execution_count": 5,
   "metadata": {},
   "outputs": [],
   "source": [
    "#Set the Input datasets\n",
    "inputs = np.array([[0,0],[0,1],[1,0],[1,1]])\n",
    "#Set the expected output\n",
    "expected_output = np.array(output_list)"
   ]
  },
  {
   "cell_type": "code",
   "execution_count": 6,
   "metadata": {},
   "outputs": [],
   "source": [
    "# Set the epochs\n",
    "epochs = 100000\n",
    "# Set the learning rate\n",
    "lr = 0.1\n",
    "# Set the number of neuron at input layer, hidden layer and output layers\n",
    "inputLayerNeurons = 2\n",
    "hiddenLayerNeurons = 2\n",
    "outputLayerNeurons = 1"
   ]
  },
  {
   "cell_type": "code",
   "execution_count": 7,
   "metadata": {},
   "outputs": [],
   "source": [
    "# Random weights and bias initialization\n",
    "# Initialize the uniform distribution to hiddent weight as (inputLayerNeurons,hiddenLayerNeurons)\n",
    "hidden_weights = np.random.uniform(\n",
    "    size=(inputLayerNeurons, hiddenLayerNeurons))\n",
    "# Initialize the uniform distribution to hiddent bias as (1,hiddenLayerNeurons)\n",
    "hidden_bias = np.random.uniform(size=(1, hiddenLayerNeurons))\n",
    "# Initialize the uniform distribution to output weight as (hiddenLayerNeurons,outputLayerNeurons)\n",
    "output_weights = np.random.uniform(\n",
    "    size=(hiddenLayerNeurons, outputLayerNeurons))\n",
    "# Initialize the uniform distribution to output bias as (1,outputLayerNeurons)\n",
    "output_bias = np.random.uniform(size=(1, outputLayerNeurons))"
   ]
  },
  {
   "cell_type": "code",
   "execution_count": 8,
   "metadata": {},
   "outputs": [
    {
     "name": "stdout",
     "output_type": "stream",
     "text": [
      "Initial hidden weights: [0.33378712 0.90836726] [0.3112781  0.01082095]\n",
      "Initial hidden biases: [0.3742099  0.00601074]\n",
      "Initial output weights: [0.05283445] [0.15000668]\n",
      "Initial output biases: [0.22663463]\n"
     ]
    }
   ],
   "source": [
    "# Display the hidden_weights, hidden_bias, output_weights, and output_bias\n",
    "print(\"Initial hidden weights: \", end='')\n",
    "print(*hidden_weights)\n",
    "print(\"Initial hidden biases: \", end='')\n",
    "print(*hidden_bias)\n",
    "print(\"Initial output weights: \", end='')\n",
    "print(*output_weights)\n",
    "print(\"Initial output biases: \", end='')\n",
    "print(*output_bias)"
   ]
  },
  {
   "cell_type": "code",
   "execution_count": 9,
   "metadata": {},
   "outputs": [],
   "source": [
    "# Training algorithm\n",
    "# Iterate over epochs\n",
    "for _ in range(epochs):\n",
    "    # Forward Propagation\n",
    "    # Perform the dot operations between inputs and hidden_weights. Use np.dot() function\n",
    "    hidden_layer_activation = np.dot(inputs, hidden_weights)\n",
    "    hidden_layer_activation += hidden_bias\n",
    "    # Call the sigmoid method for hidden_layer_activation\n",
    "    hidden_layer_output = sigmoid(hidden_layer_activation)\n",
    "\n",
    "    # Perform the dot operations between hidden_layer_output and output_weights. Use np.dot() function\n",
    "    output_layer_activation = np.dot(hidden_layer_output, output_weights)\n",
    "    output_layer_activation += output_bias\n",
    "    # Call the sigmoid method for output_layer_activation\n",
    "    predicted_output = sigmoid(output_layer_activation)\n",
    "\n",
    "    # Backpropagation\n",
    "    # Calculate the error by performing (expected_output - predicted_output)\n",
    "    error = expected_output - predicted_output\n",
    "    # Calculate the derivate of predicted output by performing error * sigmoid_derivative(predicted_output)\n",
    "    d_predicted_output = error * sigmoid_derivative(predicted_output)\n",
    "\n",
    "    error_hidden_layer = d_predicted_output.dot(output_weights.T)\n",
    "\n",
    "    # Calculate the derivate of hidden layer by performing error_hidden_layer * sigmoid_derivative(hidden_layer_output)\n",
    "    d_hidden_layer = error_hidden_layer * \\\n",
    "        sigmoid_derivative(hidden_layer_output)\n",
    "\n",
    "    # Updating Weights and Biases\n",
    "    # Update the output weights as output_weights = output_weights + hidden_layer_output.T.dot(d_predicted_output) * lr\n",
    "    output_weights = output_weights + \\\n",
    "        hidden_layer_output.T.dot(d_predicted_output) * lr\n",
    "    output_bias += np.sum(d_predicted_output, axis=0, keepdims=True) * lr\n",
    "    # Update the hidden weights as hidden_weights = height_weights + inputs.T.dot(d_hidden_layer) * lr\n",
    "    hidden_weights = hidden_weights + inputs.T.dot(d_hidden_layer) * lr\n",
    "    hidden_bias += np.sum(d_hidden_layer, axis=0, keepdims=True) * lr"
   ]
  },
  {
   "cell_type": "code",
   "execution_count": 10,
   "metadata": {},
   "outputs": [
    {
     "name": "stdout",
     "output_type": "stream",
     "text": [
      "Final hidden weights: [6.80830653 4.79411599] [6.7093572  4.77115473]\n",
      "Final hidden bias: [-3.03605354 -7.33711029]\n",
      "Final output weights: [10.26414754] [-10.99902876]\n",
      "Final output bias: [-4.76637773]\n"
     ]
    }
   ],
   "source": [
    "# Display the hidden_weights, hidden_bias, output_weights and output_bias after training\n",
    "print(\"Final hidden weights: \", end='')\n",
    "print(*hidden_weights)\n",
    "print(\"Final hidden bias: \", end='')\n",
    "print(*hidden_bias)\n",
    "print(\"Final output weights: \", end='')\n",
    "print(*output_weights)\n",
    "print(\"Final output bias: \", end='')\n",
    "print(*output_bias)"
   ]
  },
  {
   "cell_type": "code",
   "execution_count": 11,
   "metadata": {},
   "outputs": [
    {
     "name": "stdout",
     "output_type": "stream",
     "text": [
      "\n",
      "Output from neural network after 100000 epochs: [0.01334487] [0.98855482] [0.98862819] [0.01175229]\n"
     ]
    }
   ],
   "source": [
    "# The predicted output\n",
    "print(f\"\\nOutput from neural network after {epochs} epochs: \", end='')\n",
    "print(*predicted_output)"
   ]
  }
 ],
 "metadata": {
  "kernelspec": {
   "display_name": "Python 3",
   "language": "python",
   "name": "python3"
  },
  "language_info": {
   "codemirror_mode": {
    "name": "ipython",
    "version": 3
   },
   "file_extension": ".py",
   "mimetype": "text/x-python",
   "name": "python",
   "nbconvert_exporter": "python",
   "pygments_lexer": "ipython3",
   "version": "3.8.4"
  }
 },
 "nbformat": 4,
 "nbformat_minor": 2
}
