{
 "metadata": {
  "language_info": {
   "codemirror_mode": {
    "name": "ipython",
    "version": 3
   },
   "file_extension": ".py",
   "mimetype": "text/x-python",
   "name": "python",
   "nbconvert_exporter": "python",
   "pygments_lexer": "ipython3",
   "version": "3.8.4-final"
  },
  "orig_nbformat": 2,
  "kernelspec": {
   "name": "Python 3.8.4 64-bit",
   "display_name": "Python 3.8.4 64-bit",
   "metadata": {
    "interpreter": {
     "hash": "e404b59586357c814bc0d3940e75d6763c00a48753b225b81f7716971b8e1741"
    }
   }
  }
 },
 "nbformat": 4,
 "nbformat_minor": 2,
 "cells": [
  {
   "cell_type": "code",
   "execution_count": 1,
   "metadata": {},
   "outputs": [],
   "source": [
    "import pandas as pd"
   ]
  },
  {
   "cell_type": "code",
   "execution_count": 2,
   "metadata": {},
   "outputs": [
    {
     "output_type": "stream",
     "name": "stdout",
     "text": [
      "   first_name       last_name                           email\n0        John             Doe         john-doe@bogusemail.com\n1        Mary  Smith-Robinson       maryjacobs@bogusemail.com\n2        Dave           Smith        davesmith@bogusemail.com\n3        Jane          Stuart       janestuart@bogusemail.com\n4         Tom          Wright        tomwright@bogusemail.com\n5       Steve        Robinson    steverobinson@bogusemail.com\n6      Nicole          Jacobs     nicolejacobs@bogusemail.com\n7        Jane          Wright       janewright@bogusemail.com\n8        Jane             Doe          janedoe@bogusemail.com\n9        Kurt          Wright       kurtwright@bogusemail.com\n10       Kurt        Robinson     kurtrobinson@bogusemail.com\n11       Jane         Jenkins      janejenkins@bogusemail.com\n12       Neil        Robinson     neilrobinson@bogusemail.com\n13        Tom       Patterson     tompatterson@bogusemail.com\n14        Sam         Jenkins       samjenkins@bogusemail.com\n15      Steve          Stuart      stevestuart@bogusemail.com\n16     Maggie       Patterson  maggiepatterson@bogusemail.com\n17     Maggie          Stuart     maggiestuart@bogusemail.com\n18       Jane             Doe          janedoe@bogusemail.com\n19      Steve       Patterson   stevepatterson@bogusemail.com\n20       Dave           Smith        davesmith@bogusemail.com\n21        Sam           Wilks         samwilks@bogusemail.com\n22       Kurt       Jefferson    kurtjefferson@bogusemail.com\n23        Sam          Stuart        samstuart@bogusemail.com\n24       Jane          Stuart       janestuart@bogusemail.com\n25       Dave           Davis        davedavis@bogusemail.com\n26        Sam       Patterson     sampatterson@bogusemail.com\n27        Tom       Jefferson     tomjefferson@bogusemail.com\n28       Jane          Stuart       janestuart@bogusemail.com\n29     Maggie       Jefferson  maggiejefferson@bogusemail.com\n30       Mary           Wilks        marywilks@bogusemail.com\n31       Neil       Patterson    neilpatterson@bogusemail.com\n32      Corey           Davis       coreydavis@bogusemail.com\n33      Steve          Jacobs      stevejacobs@bogusemail.com\n34       Jane         Jenkins      janejenkins@bogusemail.com\n35       John          Jacobs       johnjacobs@bogusemail.com\n36       Neil           Smith        neilsmith@bogusemail.com\n37      Corey           Wilks       coreywilks@bogusemail.com\n38      Corey           Smith       coreysmith@bogusemail.com\n39       Mary       Patterson    marypatterson@bogusemail.com\n40       Jane          Stuart       janestuart@bogusemail.com\n41     Travis          Arnold     travisarnold@bogusemail.com\n42       John        Robinson     johnrobinson@bogusemail.com\n43     Travis          Arnold     travisarnold@bogusemail.com\n"
     ]
    }
   ],
   "source": [
    "name = pd.read_csv('names.csv')\n",
    "print(name)"
   ]
  },
  {
   "cell_type": "code",
   "execution_count": 3,
   "metadata": {},
   "outputs": [
    {
     "output_type": "stream",
     "name": "stdout",
     "text": [
      "   first_name       last_name                           email  age\n0        John             Doe         john-doe@bogusemail.com   25\n1        Mary  Smith-Robinson       maryjacobs@bogusemail.com   25\n2        Dave           Smith        davesmith@bogusemail.com   25\n3        Jane          Stuart       janestuart@bogusemail.com   25\n4         Tom          Wright        tomwright@bogusemail.com   25\n5       Steve        Robinson    steverobinson@bogusemail.com   25\n6      Nicole          Jacobs     nicolejacobs@bogusemail.com   25\n7        Jane          Wright       janewright@bogusemail.com   25\n8        Jane             Doe          janedoe@bogusemail.com   25\n9        Kurt          Wright       kurtwright@bogusemail.com   25\n10       Kurt        Robinson     kurtrobinson@bogusemail.com   25\n11       Jane         Jenkins      janejenkins@bogusemail.com   25\n12       Neil        Robinson     neilrobinson@bogusemail.com   25\n13        Tom       Patterson     tompatterson@bogusemail.com   25\n14        Sam         Jenkins       samjenkins@bogusemail.com   25\n15      Steve          Stuart      stevestuart@bogusemail.com   25\n16     Maggie       Patterson  maggiepatterson@bogusemail.com   25\n17     Maggie          Stuart     maggiestuart@bogusemail.com   25\n18       Jane             Doe          janedoe@bogusemail.com   25\n19      Steve       Patterson   stevepatterson@bogusemail.com   25\n20       Dave           Smith        davesmith@bogusemail.com   25\n21        Sam           Wilks         samwilks@bogusemail.com   25\n22       Kurt       Jefferson    kurtjefferson@bogusemail.com   25\n23        Sam          Stuart        samstuart@bogusemail.com   25\n24       Jane          Stuart       janestuart@bogusemail.com   25\n25       Dave           Davis        davedavis@bogusemail.com   25\n26        Sam       Patterson     sampatterson@bogusemail.com   25\n27        Tom       Jefferson     tomjefferson@bogusemail.com   25\n28       Jane          Stuart       janestuart@bogusemail.com   25\n29     Maggie       Jefferson  maggiejefferson@bogusemail.com   25\n30       Mary           Wilks        marywilks@bogusemail.com   25\n31       Neil       Patterson    neilpatterson@bogusemail.com   25\n32      Corey           Davis       coreydavis@bogusemail.com   25\n33      Steve          Jacobs      stevejacobs@bogusemail.com   25\n34       Jane         Jenkins      janejenkins@bogusemail.com   25\n35       John          Jacobs       johnjacobs@bogusemail.com   25\n36       Neil           Smith        neilsmith@bogusemail.com   25\n37      Corey           Wilks       coreywilks@bogusemail.com   25\n38      Corey           Smith       coreysmith@bogusemail.com   25\n39       Mary       Patterson    marypatterson@bogusemail.com   25\n40       Jane          Stuart       janestuart@bogusemail.com   25\n41     Travis          Arnold     travisarnold@bogusemail.com   25\n42       John        Robinson     johnrobinson@bogusemail.com   25\n43     Travis          Arnold     travisarnold@bogusemail.com   25\n"
     ]
    }
   ],
   "source": [
    "name['age'] = 25\n",
    "print(name)"
   ]
  },
  {
   "cell_type": "code",
   "execution_count": 4,
   "metadata": {},
   "outputs": [],
   "source": [
    "name.to_csv('new_names.csv',index=False)"
   ]
  },
  {
   "cell_type": "code",
   "execution_count": 5,
   "metadata": {},
   "outputs": [
    {
     "output_type": "stream",
     "name": "stdout",
     "text": [
      "['7764331161', '7752693484', '7236721437', '6954321454', '5926871981', '5713765981', '4527285311', '6629382638', '9548635711', '9936797253', '6127442962', '7491166758', '8191896151', '6275853618', '7817278597', '3232169269', '4336138684', '7417825923', '2269955975', '5837294325', '6617943144', '8911593543', '6573231485', '3668497327', '5948925886', '8129324894', '3314386948', '9375952719', '4478566191', '7485652829']\n"
     ]
    }
   ],
   "source": [
    "import random\n",
    "\n",
    "phone_numbers = []\n",
    "for i in range(30):\n",
    "    temp = ''\n",
    "    for j in range(10):\n",
    "        temp += str(random.randint(1,9))\n",
    "    phone_numbers.append(temp)\n",
    "\n",
    "print(phone_numbers)"
   ]
  },
  {
   "cell_type": "code",
   "execution_count": 6,
   "metadata": {},
   "outputs": [
    {
     "output_type": "stream",
     "name": "stdout",
     "text": [
      "   phone_numbers\n0     7764331161\n1     7752693484\n2     7236721437\n3     6954321454\n4     5926871981\n5     5713765981\n6     4527285311\n7     6629382638\n8     9548635711\n9     9936797253\n10    6127442962\n11    7491166758\n12    8191896151\n13    6275853618\n14    7817278597\n15    3232169269\n16    4336138684\n17    7417825923\n18    2269955975\n19    5837294325\n20    6617943144\n21    8911593543\n22    6573231485\n23    3668497327\n24    5948925886\n25    8129324894\n26    3314386948\n27    9375952719\n28    4478566191\n29    7485652829\n"
     ]
    }
   ],
   "source": [
    "new_col = pd.DataFrame({'phone_numbers': phone_numbers})\n",
    "print(new_col)"
   ]
  },
  {
   "cell_type": "code",
   "execution_count": 11,
   "metadata": {},
   "outputs": [
    {
     "output_type": "stream",
     "name": "stdout",
     "text": [
      "   first_name       last_name                           email  age  \\\n0        John             Doe         john-doe@bogusemail.com   25   \n1        Mary  Smith-Robinson       maryjacobs@bogusemail.com   25   \n2        Dave           Smith        davesmith@bogusemail.com   25   \n3        Jane          Stuart       janestuart@bogusemail.com   25   \n4         Tom          Wright        tomwright@bogusemail.com   25   \n5       Steve        Robinson    steverobinson@bogusemail.com   25   \n6      Nicole          Jacobs     nicolejacobs@bogusemail.com   25   \n7        Jane          Wright       janewright@bogusemail.com   25   \n8        Jane             Doe          janedoe@bogusemail.com   25   \n9        Kurt          Wright       kurtwright@bogusemail.com   25   \n10       Kurt        Robinson     kurtrobinson@bogusemail.com   25   \n11       Jane         Jenkins      janejenkins@bogusemail.com   25   \n12       Neil        Robinson     neilrobinson@bogusemail.com   25   \n13        Tom       Patterson     tompatterson@bogusemail.com   25   \n14        Sam         Jenkins       samjenkins@bogusemail.com   25   \n15      Steve          Stuart      stevestuart@bogusemail.com   25   \n16     Maggie       Patterson  maggiepatterson@bogusemail.com   25   \n17     Maggie          Stuart     maggiestuart@bogusemail.com   25   \n18       Jane             Doe          janedoe@bogusemail.com   25   \n19      Steve       Patterson   stevepatterson@bogusemail.com   25   \n20       Dave           Smith        davesmith@bogusemail.com   25   \n21        Sam           Wilks         samwilks@bogusemail.com   25   \n22       Kurt       Jefferson    kurtjefferson@bogusemail.com   25   \n23        Sam          Stuart        samstuart@bogusemail.com   25   \n24       Jane          Stuart       janestuart@bogusemail.com   25   \n25       Dave           Davis        davedavis@bogusemail.com   25   \n26        Sam       Patterson     sampatterson@bogusemail.com   25   \n27        Tom       Jefferson     tomjefferson@bogusemail.com   25   \n28       Jane          Stuart       janestuart@bogusemail.com   25   \n29     Maggie       Jefferson  maggiejefferson@bogusemail.com   25   \n\n   phone_numbers  \n0     7764331161  \n1     7752693484  \n2     7236721437  \n3     6954321454  \n4     5926871981  \n5     5713765981  \n6     4527285311  \n7     6629382638  \n8     9548635711  \n9     9936797253  \n10    6127442962  \n11    7491166758  \n12    8191896151  \n13    6275853618  \n14    7817278597  \n15    3232169269  \n16    4336138684  \n17    7417825923  \n18    2269955975  \n19    5837294325  \n20    6617943144  \n21    8911593543  \n22    6573231485  \n23    3668497327  \n24    5948925886  \n25    8129324894  \n26    3314386948  \n27    9375952719  \n28    4478566191  \n29    7485652829  \n"
     ]
    }
   ],
   "source": [
    "name = name.merge(new_col)\n",
    "print(name)"
   ]
  },
  {
   "cell_type": "code",
   "execution_count": 12,
   "metadata": {},
   "outputs": [],
   "source": [
    "name.to_csv('new_names.csv', index=False)"
   ]
  },
  {
   "cell_type": "code",
   "execution_count": 13,
   "metadata": {},
   "outputs": [
    {
     "output_type": "stream",
     "name": "stdout",
     "text": [
      "   first_name       last_name                           email  age  \\\n0        John             Doe         john-doe@bogusemail.com   25   \n1        Mary  Smith-Robinson       maryjacobs@bogusemail.com   25   \n2        Dave           Smith        davesmith@bogusemail.com   25   \n3        Jane          Stuart       janestuart@bogusemail.com   25   \n4         Tom          Wright        tomwright@bogusemail.com   25   \n5       Steve        Robinson    steverobinson@bogusemail.com   25   \n6      Nicole          Jacobs     nicolejacobs@bogusemail.com   25   \n7        Jane          Wright       janewright@bogusemail.com   25   \n8        Jane             Doe          janedoe@bogusemail.com   25   \n9        Kurt          Wright       kurtwright@bogusemail.com   25   \n10       Kurt        Robinson     kurtrobinson@bogusemail.com   25   \n11       Jane         Jenkins      janejenkins@bogusemail.com   25   \n12       Neil        Robinson     neilrobinson@bogusemail.com   25   \n13        Tom       Patterson     tompatterson@bogusemail.com   25   \n14        Sam         Jenkins       samjenkins@bogusemail.com   25   \n15      Steve          Stuart      stevestuart@bogusemail.com   25   \n16     Maggie       Patterson  maggiepatterson@bogusemail.com   25   \n17     Maggie          Stuart     maggiestuart@bogusemail.com   25   \n18       Jane             Doe          janedoe@bogusemail.com   25   \n19      Steve       Patterson   stevepatterson@bogusemail.com   25   \n20       Dave           Smith        davesmith@bogusemail.com   25   \n21        Sam           Wilks         samwilks@bogusemail.com   25   \n22       Kurt       Jefferson    kurtjefferson@bogusemail.com   25   \n23        Sam          Stuart        samstuart@bogusemail.com   25   \n24       Jane          Stuart       janestuart@bogusemail.com   25   \n25       Dave           Davis        davedavis@bogusemail.com   25   \n26        Sam       Patterson     sampatterson@bogusemail.com   25   \n27        Tom       Jefferson     tomjefferson@bogusemail.com   25   \n28       Jane          Stuart       janestuart@bogusemail.com   25   \n29     Maggie       Jefferson  maggiejefferson@bogusemail.com   25   \n\n    phone_numbers  \n0      7764331161  \n1      7752693484  \n2      7236721437  \n3      6954321454  \n4      5926871981  \n5      5713765981  \n6      4527285311  \n7      6629382638  \n8      9548635711  \n9      9936797253  \n10     6127442962  \n11     7491166758  \n12     8191896151  \n13     6275853618  \n14     7817278597  \n15     3232169269  \n16     4336138684  \n17     7417825923  \n18     2269955975  \n19     5837294325  \n20     6617943144  \n21     8911593543  \n22     6573231485  \n23     3668497327  \n24     5948925886  \n25     8129324894  \n26     3314386948  \n27     9375952719  \n28     4478566191  \n29     7485652829  \n"
     ]
    }
   ],
   "source": [
    "newName = pd.read_csv('new_names.csv')\n",
    "print(newName)"
   ]
  },
  {
   "cell_type": "code",
   "execution_count": null,
   "metadata": {},
   "outputs": [],
   "source": []
  }
 ]
}