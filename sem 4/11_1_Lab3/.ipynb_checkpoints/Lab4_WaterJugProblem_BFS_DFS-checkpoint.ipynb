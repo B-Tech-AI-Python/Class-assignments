{
 "cells": [
  {
   "cell_type": "markdown",
   "metadata": {},
   "source": [
    "<H1>WATER JUG PROBLEM USING BFS & DFS<H1>"
   ]
  },
  {
   "cell_type": "markdown",
   "metadata": {},
   "source": [
    "Given Problem: You are given a m liter jug and a n liter jug where $0 < m < n$. Both the jugs are initially empty. The jugs don't have markings to allow measuring smaller quantities. You have to use the jugs to measure $d$ liters of water where $d < n$. Determine the minimum no of operations to be performed to obtain $d$ liters of water in one of jug."
   ]
  },
  {
   "cell_type": "markdown",
   "metadata": {},
   "source": [
    "<b>States:</b>  Amount of water in each respective jug, where the states are represented by [S(J1), S(J2)] and S(J1) is the amount in the first jug and S(J2) is the amount in the second jug \n",
    "\n",
    "<b>Capacity of Jug1 (J1):</b> 3 litres\n",
    "\n",
    "<b>Capacity of Jug1 (J2):</b> 4 litres\n",
    "\n",
    "<b>Initial State:</b> [0,0] \n",
    "\n",
    "<b>Goal state:</b> The user give the input the amount of water required in the jug (J2) i.e. [2,y] or [2,0] \n",
    "\n",
    "These are the initial operators used:\n",
    "\n",
    "<b>Operators:</b>  \n",
    "            1. Fill the first jug   \n",
    "            2. Fill the second jug  \n",
    "            3. Empty the first jug\n",
    "            4. Empty the second jug\n",
    "            5. Pour the first jug into the second jug\n",
    "            6. Pour the second jug into the first jug\n",
    "\n",
    "<b>Branching Factor:</b>   6 (because we have 6 operators)"
   ]
  },
  {
   "cell_type": "code",
   "execution_count": 14,
   "metadata": {},
   "outputs": [],
   "source": [
    "import collections"
   ]
  },
  {
   "cell_type": "code",
   "execution_count": 15,
   "metadata": {},
   "outputs": [],
   "source": [
    "# this method returns a key value for a given node. \n",
    "# node is a list of two integers representing current state of the jugs\n",
    "def get_index(node):\n",
    "    return pow(7, node[0]) * pow(5, node[1])"
   ]
  },
  {
   "cell_type": "code",
   "execution_count": 16,
   "metadata": {},
   "outputs": [
    {
     "data": {
      "text/plain": [
       "2401"
      ]
     },
     "execution_count": 16,
     "metadata": {},
     "output_type": "execute_result"
    }
   ],
   "source": [
    "get_index([4,0])"
   ]
  },
  {
   "cell_type": "code",
   "execution_count": 17,
   "metadata": {},
   "outputs": [],
   "source": [
    "# this method accepts an input for asking the choice for type of searching required i.e. BFS or DFS.\n",
    "# method return True for BFS, False otherwise\n",
    "def get_search_type():\n",
    "    s = input(\"Enter 'b' for BFS, 'd' for DFS: \").lower()\n",
    "\n",
    "    # accept the input again if given input is not as 'b' for BFS, 'd' for DFS\n",
    "    while s not in ('b', 'd'):\n",
    "        s = input(\"The input is not valid! Enter 'b' for BFS, 'd' for DFS: \").lower()\n",
    "    # return True for BFS option selected\n",
    "    return s == 'b'"
   ]
  },
  {
   "cell_type": "code",
   "execution_count": 18,
   "metadata": {},
   "outputs": [],
   "source": [
    "# this method accept volumes of the jugs as an input from the user.\n",
    "# returns a list of two integeres representing volumes of the jugs.\n",
    "def get_jugs():\n",
    "    print(\"Receiving the volume of the jugs...\")\n",
    "\n",
    "    jugs = []\n",
    "\n",
    "    # jug 1    \n",
    "    temp = int(input(\"Enter first jug volume (>1): \"))\n",
    "    while temp < 1:\n",
    "        temp = int(input(\"Enter a valid amount (>1): \"))\n",
    "    jugs.append(temp)\n",
    "\n",
    "    # jug 2    \n",
    "    temp = int(input(\"Enter second jug volume (>1): \"))\n",
    "    while temp < 1:\n",
    "        temp = int(input(\"Enter a valid amount (>1): \"))\n",
    "    jugs.append(temp)\n",
    "    \n",
    "    # return the list\n",
    "    return jugs"
   ]
  },
  {
   "cell_type": "code",
   "execution_count": 19,
   "metadata": {},
   "outputs": [],
   "source": [
    "# this method accepts the desired amount of water as an input from the user whereas \n",
    "# the parameter jugs is a list of two integers representing volumes of the jugs\n",
    "# returns the desired amount of water as goal\n",
    "def get_goal(jugs):\n",
    "    \n",
    "    print(\"Receiving the desired amount of the water...\")\n",
    "    # maximum capacity of jugs using max()\n",
    "    max_amount = max(jugs)\n",
    "    \n",
    "    s = \"Enter the desired amount of water (1 - {0}): \".format(max_amount)\n",
    "    goal_amount = int(input(s))\n",
    "\n",
    "    while goal_amount not in range(1,max_amount+1):\n",
    "        goal_amount = int(input(\"Enter a valid amount (1 - {0}): \".format(max_amount)))\n",
    "\n",
    "    # return the goal amount of water\n",
    "    return goal_amount\n"
   ]
  },
  {
   "cell_type": "code",
   "execution_count": 20,
   "metadata": {},
   "outputs": [],
   "source": [
    "# this method checks whether the given path matches the goal node.\n",
    "# the path parameter is a list of nodes representing the path to be checked\n",
    "# the goal_amount parameter is an integer representing the desired amount of water\n",
    "def is_goal(path, goal_amount):\n",
    "    \n",
    "    print(\"Checking if the goal is achieved...\")\n",
    "    \n",
    "    # return the status of the latest path matches with the goal_amount of another jug\n",
    "    return path[-1][0] == goal_amount"
   ]
  },
  {
   "cell_type": "code",
   "execution_count": 21,
   "metadata": {},
   "outputs": [],
   "source": [
    "# this method validates whether the given node is already visited.\n",
    "# the parameter node is a list of two integers representing current state of the jugs\n",
    "# the parameter check_dict is   a dictionary storing visited nodes\n",
    "def been_there(node, check_dict):\n",
    "    \n",
    "    print(\"Checking if {0} is visited before...\".format(node))\n",
    "\n",
    "    # return True whether a given node already exisiting in a dictionary, otherwise False. Use get() method of dictionary\n",
    "    return (node in check_dict)"
   ]
  },
  {
   "cell_type": "code",
   "execution_count": 22,
   "metadata": {},
   "outputs": [],
   "source": [
    "# this method returns the list of all possible transitions\n",
    "# the parameter jugs is a list of two integers representing volumes of the jugs\n",
    "# the parameter path is a list of nodes represeting the current path\n",
    "# the parameter check_dict is a dictionary storing visited nodes\n",
    "def next_transitions(jugs, path, check_dict):\n",
    "    \n",
    "    print(\"Finding next transitions and checking for the loops...\")\n",
    "    \n",
    "    #TODO: create an empty list\n",
    "    result = []\n",
    "    next_nodes = []\n",
    "    node = []\n",
    "\n",
    "    a_max = jugs[0]\n",
    "    b_max = jugs[1]\n",
    "    \n",
    "    #TODO: initial amount in the first jug using path parameter\n",
    "    a = path[-1][0]\n",
    "    #TODO: initial amount in the second jug using path parameter\n",
    "    b = path[-1][1]\n",
    "\n",
    "    # operations used in Water Jug problem\n",
    "    # 1. fill in the first jug\n",
    "    node.append(a_max)\n",
    "    node.append(b)\n",
    "    if not been_there(node, check_dict):\n",
    "        next_nodes.append(node)\n",
    "    node = []\n",
    "\n",
    "    # 2. fill in the second jug\n",
    "    # append with the initial amount of water in first jug\n",
    "    node.append(a)\n",
    "    # append with the max amount of water in second jug\n",
    "    node.append(b_max)\n",
    "    # check if node is not visited then append the node in next_nodes. Use been_there(..,..) method \n",
    "    if not been_there(node, check_dict):\n",
    "        next_nodes.append(node)\n",
    "    node = []\n",
    "\n",
    "    # 3. second jug to first jug\n",
    "    node.append(min(a_max, a + b))\n",
    "    node.append(b - (node[0] - a))  # b - ( a' - a)\n",
    "    if not been_there(node, check_dict):\n",
    "        next_nodes.append(node)\n",
    "    node = []\n",
    "\n",
    "    # 4. first jug to second jug\n",
    "    # append the minimum between the a+b and b_max\n",
    "    node.append(min(a + b, b_max))\n",
    "    node.insert(0, a - (node[0] - b))\n",
    "    if not been_there(node, check_dict):\n",
    "        next_nodes.append(node)\n",
    "    node = []\n",
    "\n",
    "    # 5. empty first jug\n",
    "    # append 0 to empty first jug\n",
    "    node.append(0)\n",
    "    # append b amount for second jug\n",
    "    node.append(b)\n",
    "    if not been_there(node, check_dict):\n",
    "        next_nodes.append(node)\n",
    "    node = []\n",
    "\n",
    "    # 6. empty second jug\n",
    "    # append a amount for first jug\n",
    "    node.append(a)\n",
    "    # append 0 to empty second jug\n",
    "    node.append(b)\n",
    "    if not been_there(node, check_dict):\n",
    "        next_nodes.append(node)\n",
    "\n",
    "    # create a list of next paths\n",
    "    for i in range(0, len(next_nodes)):\n",
    "        temp = list(path)\n",
    "        # append the ith index of next_nodes to temp\n",
    "        temp.append(next_nodes[i])\n",
    "        result.append(temp)\n",
    "\n",
    "    if len(next_nodes) == 0:\n",
    "        print(\"No more unvisited nodes...\\nBacktracking...\")\n",
    "    else:\n",
    "        print(\"Possible transitions: \")\n",
    "        for nnode in next_nodes:\n",
    "            print(nnode)\n",
    "    \n",
    "    # return result\n",
    "    return result"
   ]
  },
  {
   "cell_type": "code",
   "execution_count": 23,
   "metadata": {},
   "outputs": [],
   "source": [
    "# this method returns a string explaining the transition from old state/node to new state/node\n",
    "# the parameter old is a list representing old state/node\n",
    "# the parameter new is a list representing new state/node\n",
    "# the parameter jugs is a list of two integers representing volumes of the jugs\n",
    "     \n",
    "def transition(old, new, jugs):\n",
    "    \n",
    "    # get the amount of water from old state/node for first Jug\n",
    "    a = old[0]\n",
    "    # get the amount of water from old state/node for second Jug\n",
    "    b = old[1]\n",
    "    # get the amount of water from new state/node for first Jug\n",
    "    a_prime = new[0]\n",
    "    # get the amount of water from new state/node for second Jug\n",
    "    b_prime = new[1]\n",
    "    # get the amount of water from jugs representing volume for first Jug\n",
    "    a_max = jugs[0]\n",
    "    # get the amount of water from jugs representing volume for second Jug\n",
    "    b_max = jugs[1]\n",
    "\n",
    "    if a > a_prime:\n",
    "        if b == b_prime:\n",
    "            return \"Clear {0}-liter jug:\\t\\t\\t\".format(a_max)\n",
    "        else:\n",
    "            return \"Pour {0}-liter jug into {1}-liter jug:\\t\".format(a_max, b_max)\n",
    "    else:\n",
    "        if b > b_prime:\n",
    "            if a == a_prime:\n",
    "                return \"Clear {0}-liter jug:\\t\\t\\t\".format(b_max)\n",
    "            else:\n",
    "                return \"Pour {0}-liter jug into {1}-liter jug:\\t\".format(b_max, a_max)\n",
    "        else:\n",
    "            if a == a_prime:\n",
    "                return \"Fill {0}-liter jug:\\t\\t\\t\".format(b_max)\n",
    "            else:\n",
    "                return \"Fill {0}-liter jug:\\t\\t\\t\".format(a_max)\n"
   ]
  },
  {
   "cell_type": "code",
   "execution_count": 24,
   "metadata": {},
   "outputs": [],
   "source": [
    "# this method prints the goal path\n",
    "# the path is a list of nodes representing the goal path\n",
    "# the jugs is a list of two integers representing volumes of the jugs\n",
    "     \n",
    "def print_path(path, jugs):\n",
    "    \n",
    "    print(\"Starting from:\\t\\t\\t\\t\", path[0])\n",
    "    for i in  range(0, len(path) - 1):\n",
    "        print(i+1,\":\", transition(path[i], path[i+1], jugs), path[i+1])"
   ]
  },
  {
   "cell_type": "code",
   "execution_count": 25,
   "metadata": {},
   "outputs": [],
   "source": [
    "# this method searches for a path between starting node and goal node\n",
    "# the parameter starting_node is a list of list of two integers representing initial state of the jugs\n",
    "# the parameter jugs a list of two integers representing volumes of the jugs\n",
    "# the parameter goal_amount is an integer represting the desired amount\n",
    "# the parameter check_dict is  a dictionary storing visited nodes\n",
    "# the parameter is_breadth is implements BFS, if True; DFS otherwise\n",
    "def search(starting_node, jugs, goal_amount, check_dict, is_breadth):\n",
    "    \n",
    "    if is_breadth:\n",
    "        print(\"Implementing BFS...\")\n",
    "    else:\n",
    "        print(\"Implementing DFS...\")\n",
    "\n",
    "    goal = []\n",
    "    accomplished = False\n",
    "    \n",
    "    # call a deque() using collections \n",
    "    q = collections.deque()\n",
    "    q.appendleft(starting_node)\n",
    "    \n",
    "    while len(q) != 0:\n",
    "        path = q.popleft()\n",
    "        check_dict[get_index(path[-1])] = True\n",
    "\n",
    "        if len(path) >= 2:\n",
    "            print(transition(path[-2], path[-1], jugs), path[-1])\n",
    "\n",
    "        if is_goal(path, goal_amount):\n",
    "            accomplished = True\n",
    "            goal = path\n",
    "            break\n",
    "\n",
    "        # call next_transitions method for generating the further nodes\n",
    "        next_moves = next_transitions(jugs, path, check_dict)\n",
    "        for i in next_moves:\n",
    "            if is_breadth:\n",
    "                q.append(i)\n",
    "            else:\n",
    "                q.appendleft(i)\n",
    "\n",
    "    if accomplished:\n",
    "        print(\"The goal is achieved\\nPrinting the sequence of the moves...\\n\")\n",
    "        print_path(goal, jugs)\n",
    "    else:\n",
    "        print(\"Problem cannot be solved.\")\n"
   ]
  },
  {
   "cell_type": "code",
   "execution_count": 26,
   "metadata": {},
   "outputs": [
    {
     "name": "stdout",
     "output_type": "stream",
     "text": [
      "Receiving the volume of the jugs...\n",
      "Receiving the desired amount of the water...\n",
      "Implementing BFS...\n",
      "Checking if the goal is achieved...\n",
      "Finding next transitions and checking for the loops...\n",
      "Checking if [3, 0] is visited before...\n"
     ]
    },
    {
     "ename": "TypeError",
     "evalue": "unhashable type: 'list'",
     "output_type": "error",
     "traceback": [
      "\u001b[0;31m---------------------------------------------------------------------------\u001b[0m",
      "\u001b[0;31mTypeError\u001b[0m                                 Traceback (most recent call last)",
      "\u001b[0;32m<ipython-input-26-9da097ce74dd>\u001b[0m in \u001b[0;36m<module>\u001b[0;34m\u001b[0m\n\u001b[1;32m     10\u001b[0m     \u001b[0mis_breadth\u001b[0m \u001b[0;34m=\u001b[0m \u001b[0mget_search_type\u001b[0m\u001b[0;34m(\u001b[0m\u001b[0;34m)\u001b[0m\u001b[0;34m\u001b[0m\u001b[0;34m\u001b[0m\u001b[0m\n\u001b[1;32m     11\u001b[0m \u001b[0;34m\u001b[0m\u001b[0m\n\u001b[0;32m---> 12\u001b[0;31m     \u001b[0msearch\u001b[0m\u001b[0;34m(\u001b[0m\u001b[0mstarting_node\u001b[0m\u001b[0;34m,\u001b[0m \u001b[0mjugs\u001b[0m\u001b[0;34m,\u001b[0m \u001b[0mgoal_amount\u001b[0m\u001b[0;34m,\u001b[0m \u001b[0mcheck_dict\u001b[0m\u001b[0;34m,\u001b[0m \u001b[0mis_breadth\u001b[0m\u001b[0;34m)\u001b[0m\u001b[0;34m\u001b[0m\u001b[0;34m\u001b[0m\u001b[0m\n\u001b[0m",
      "\u001b[0;32m<ipython-input-25-1568de629223>\u001b[0m in \u001b[0;36msearch\u001b[0;34m(starting_node, jugs, goal_amount, check_dict, is_breadth)\u001b[0m\n\u001b[1;32m     32\u001b[0m \u001b[0;34m\u001b[0m\u001b[0m\n\u001b[1;32m     33\u001b[0m         \u001b[0;31m# call next_transitions method for generating the further nodes\u001b[0m\u001b[0;34m\u001b[0m\u001b[0;34m\u001b[0m\u001b[0;34m\u001b[0m\u001b[0m\n\u001b[0;32m---> 34\u001b[0;31m         \u001b[0mnext_moves\u001b[0m \u001b[0;34m=\u001b[0m \u001b[0mnext_transitions\u001b[0m\u001b[0;34m(\u001b[0m\u001b[0mjugs\u001b[0m\u001b[0;34m,\u001b[0m \u001b[0mpath\u001b[0m\u001b[0;34m,\u001b[0m \u001b[0mcheck_dict\u001b[0m\u001b[0;34m)\u001b[0m\u001b[0;34m\u001b[0m\u001b[0;34m\u001b[0m\u001b[0m\n\u001b[0m\u001b[1;32m     35\u001b[0m         \u001b[0;32mfor\u001b[0m \u001b[0mi\u001b[0m \u001b[0;32min\u001b[0m \u001b[0mnext_moves\u001b[0m\u001b[0;34m:\u001b[0m\u001b[0;34m\u001b[0m\u001b[0;34m\u001b[0m\u001b[0m\n\u001b[1;32m     36\u001b[0m             \u001b[0;32mif\u001b[0m \u001b[0mis_breadth\u001b[0m\u001b[0;34m:\u001b[0m\u001b[0;34m\u001b[0m\u001b[0;34m\u001b[0m\u001b[0m\n",
      "\u001b[0;32m<ipython-input-22-e8d7412d6657>\u001b[0m in \u001b[0;36mnext_transitions\u001b[0;34m(jugs, path, check_dict)\u001b[0m\n\u001b[1;32m     24\u001b[0m     \u001b[0mnode\u001b[0m\u001b[0;34m.\u001b[0m\u001b[0mappend\u001b[0m\u001b[0;34m(\u001b[0m\u001b[0ma_max\u001b[0m\u001b[0;34m)\u001b[0m\u001b[0;34m\u001b[0m\u001b[0;34m\u001b[0m\u001b[0m\n\u001b[1;32m     25\u001b[0m     \u001b[0mnode\u001b[0m\u001b[0;34m.\u001b[0m\u001b[0mappend\u001b[0m\u001b[0;34m(\u001b[0m\u001b[0mb\u001b[0m\u001b[0;34m)\u001b[0m\u001b[0;34m\u001b[0m\u001b[0;34m\u001b[0m\u001b[0m\n\u001b[0;32m---> 26\u001b[0;31m     \u001b[0;32mif\u001b[0m \u001b[0;32mnot\u001b[0m \u001b[0mbeen_there\u001b[0m\u001b[0;34m(\u001b[0m\u001b[0mnode\u001b[0m\u001b[0;34m,\u001b[0m \u001b[0mcheck_dict\u001b[0m\u001b[0;34m)\u001b[0m\u001b[0;34m:\u001b[0m\u001b[0;34m\u001b[0m\u001b[0;34m\u001b[0m\u001b[0m\n\u001b[0m\u001b[1;32m     27\u001b[0m         \u001b[0mnext_nodes\u001b[0m\u001b[0;34m.\u001b[0m\u001b[0mappend\u001b[0m\u001b[0;34m(\u001b[0m\u001b[0mnode\u001b[0m\u001b[0;34m)\u001b[0m\u001b[0;34m\u001b[0m\u001b[0;34m\u001b[0m\u001b[0m\n\u001b[1;32m     28\u001b[0m     \u001b[0mnode\u001b[0m \u001b[0;34m=\u001b[0m \u001b[0;34m[\u001b[0m\u001b[0;34m]\u001b[0m\u001b[0;34m\u001b[0m\u001b[0;34m\u001b[0m\u001b[0m\n",
      "\u001b[0;32m<ipython-input-21-92236d614796>\u001b[0m in \u001b[0;36mbeen_there\u001b[0;34m(node, check_dict)\u001b[0m\n\u001b[1;32m      7\u001b[0m \u001b[0;34m\u001b[0m\u001b[0m\n\u001b[1;32m      8\u001b[0m     \u001b[0;31m# return True whether a given node already exisiting in a dictionary, otherwise False. Use get() method of dictionary\u001b[0m\u001b[0;34m\u001b[0m\u001b[0;34m\u001b[0m\u001b[0;34m\u001b[0m\u001b[0m\n\u001b[0;32m----> 9\u001b[0;31m     \u001b[0;32mreturn\u001b[0m \u001b[0;34m(\u001b[0m\u001b[0mnode\u001b[0m \u001b[0;32min\u001b[0m \u001b[0mcheck_dict\u001b[0m\u001b[0;34m)\u001b[0m\u001b[0;34m\u001b[0m\u001b[0;34m\u001b[0m\u001b[0m\n\u001b[0m",
      "\u001b[0;31mTypeError\u001b[0m: unhashable type: 'list'"
     ]
    }
   ],
   "source": [
    "if __name__ == '__main__':\n",
    "    starting_node = [[0, 0]]\n",
    "    \n",
    "    jugs = get_jugs()\n",
    "\n",
    "    goal_amount = get_goal(jugs)\n",
    "\n",
    "    check_dict = {}\n",
    "\n",
    "    is_breadth = get_search_type()\n",
    "\n",
    "    search(starting_node, jugs, goal_amount, check_dict, is_breadth)"
   ]
  },
  {
   "cell_type": "markdown",
   "metadata": {},
   "source": [
    "**BONUS:**\n",
    "\n",
    "Include more operations as discussed in class and state your analysis depending on the upcoming "
   ]
  },
  {
   "cell_type": "code",
   "execution_count": null,
   "metadata": {},
   "outputs": [],
   "source": []
  }
 ],
 "metadata": {
  "kernelspec": {
   "display_name": "Python 3",
   "language": "python",
   "name": "python3"
  },
  "language_info": {
   "codemirror_mode": {
    "name": "ipython",
    "version": 3
   },
   "file_extension": ".py",
   "mimetype": "text/x-python",
   "name": "python",
   "nbconvert_exporter": "python",
   "pygments_lexer": "ipython3",
   "version": "3.8.5"
  }
 },
 "nbformat": 4,
 "nbformat_minor": 2
}
